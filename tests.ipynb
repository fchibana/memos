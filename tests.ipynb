{
 "cells": [
  {
   "cell_type": "code",
   "execution_count": 1,
   "metadata": {},
   "outputs": [],
   "source": [
    "import pandas as pd\n",
    "import numpy as np"
   ]
  },
  {
   "cell_type": "code",
   "execution_count": null,
   "metadata": {},
   "outputs": [],
   "source": [
    "params = [24.96, 0.69, 0.022, 0.12] "
   ]
  },
  {
   "cell_type": "code",
   "execution_count": null,
   "metadata": {},
   "outputs": [],
   "source": [
    "from itm.lcdm import H"
   ]
  },
  {
   "cell_type": "code",
   "execution_count": null,
   "metadata": {},
   "outputs": [
    {
     "data": {
      "text/plain": [
       "<bound method DataFrame.info of          z   H(z)    err\n",
       "0   0.0708   69.0  19.68\n",
       "1   0.0900   69.0  15.00\n",
       "2   0.1200   68.6  26.20\n",
       "3   0.1700   83.0   8.00\n",
       "4   0.1790   75.0   4.00\n",
       "5   0.1990   75.0   5.00\n",
       "6   0.2000   72.9  29.60\n",
       "7   0.2700   77.0  14.00\n",
       "8   0.2800   88.8  36.60\n",
       "9   0.3500   82.1   4.85\n",
       "10  0.3520   83.0  14.00\n",
       "11  0.4000   95.0  17.00\n",
       "12  0.4004   77.0  10.20\n",
       "13  0.4247   87.1  11.20\n",
       "14  0.4497   92.8  12.90\n",
       "15  0.4783   80.9   9.00\n",
       "16  0.4800   97.0  62.00\n",
       "17  0.5929  104.0  13.00\n",
       "18  0.6797   92.0   8.00\n",
       "19  0.7812  105.0  12.00\n",
       "20  0.8754  125.0  17.00\n",
       "21  0.8800   90.0  40.00\n",
       "22  0.9000  117.0  23.00\n",
       "23  1.0370  154.0  20.00\n",
       "24  1.3000  168.0  17.00\n",
       "25  1.3630  160.0  33.60\n",
       "26  1.4300  177.0  18.00\n",
       "27  1.5300  140.0  14.00\n",
       "28  1.7500  202.0  40.00\n",
       "29  1.9650  186.5  50.40>"
      ]
     },
     "execution_count": 23,
     "metadata": {},
     "output_type": "execute_result"
    }
   ],
   "source": [
    "data.info"
   ]
  },
  {
   "cell_type": "code",
   "execution_count": null,
   "metadata": {},
   "outputs": [],
   "source": [
    "data = pd.read_csv(\"data/hubble.csv\")\n",
    "\n",
    "x = data[\"z\"].to_numpy()\n",
    "y = data[\"H\"].to_numpy()\n",
    "y_err = data[\"err\"].to_numpy()\n",
    "\n",
    "model = H(x, params)"
   ]
  },
  {
   "cell_type": "code",
   "execution_count": null,
   "metadata": {},
   "outputs": [],
   "source": [
    "def ln_likelihood(y_fit, y_target, y_err):\n",
    "    inv_sigma2 = 1.0 / y_err**2\n",
    "    return -0.5 * (np.sum((y_target - y_fit)**2 * inv_sigma2 - np.log(inv_sigma2)))\n",
    "    "
   ]
  },
  {
   "cell_type": "code",
   "execution_count": null,
   "metadata": {},
   "outputs": [
    {
     "data": {
      "text/plain": [
       "-90.90551637968684"
      ]
     },
     "execution_count": 27,
     "metadata": {},
     "output_type": "execute_result"
    }
   ],
   "source": [
    "ln_likelihood(model, y, y_err)"
   ]
  },
  {
   "cell_type": "code",
   "execution_count": null,
   "metadata": {},
   "outputs": [
    {
     "data": {
      "text/plain": [
       "-90.90551637968684"
      ]
     },
     "execution_count": 28,
     "metadata": {},
     "output_type": "execute_result"
    }
   ],
   "source": [
    "lnlikehood"
   ]
  },
  {
   "cell_type": "code",
   "execution_count": null,
   "metadata": {},
   "outputs": [
    {
     "data": {
      "text/plain": [
       "array([ 71.30598591,  71.97251533,  73.04888493,  74.93668374,\n",
       "        75.28883965,  76.08478496,  76.12506485,  79.05757329,\n",
       "        79.49448017,  82.67591308,  82.76993535,  85.07751008,\n",
       "        85.09714803,  86.30264571,  87.56829358,  89.04736793,\n",
       "        89.13632167,  95.29731446, 100.36051172, 106.62034323,\n",
       "       112.73932448, 113.04546069, 114.38424504, 123.8839227 ,\n",
       "       143.6134155 , 148.60880392, 154.0286447 , 162.31684513,\n",
       "       181.34623933, 200.93172944])"
      ]
     },
     "execution_count": 18,
     "metadata": {},
     "output_type": "execute_result"
    }
   ],
   "source": [
    "        # initial guess\n",
    "model = H(df[\"z\"], params)\n",
    "model.to_numpy()\n",
    "# inv_sigma2 = 1.0/yerr**2\n",
    "\n",
    "# lnlikehood += -0.5 * \\\n",
    "# (np.sum((y-model)**2*inv_sigma2 - np.log(inv_sigma2)))"
   ]
  },
  {
   "cell_type": "code",
   "execution_count": null,
   "metadata": {},
   "outputs": [],
   "source": [
    "from itm.likelihood_v2 import Prob\n"
   ]
  },
  {
   "cell_type": "code",
   "execution_count": null,
   "metadata": {},
   "outputs": [],
   "source": [
    "probs = Prob()"
   ]
  },
  {
   "cell_type": "code",
   "execution_count": null,
   "metadata": {},
   "outputs": [
    {
     "data": {
      "text/plain": [
       "0"
      ]
     },
     "execution_count": 3,
     "metadata": {},
     "output_type": "execute_result"
    }
   ],
   "source": [
    "params = [24.96, 0.69, 0.022, 0.12] \n",
    "probs.ln_likelihood(params)"
   ]
  },
  {
   "cell_type": "code",
   "execution_count": null,
   "metadata": {},
   "outputs": [],
   "source": [
    "# Test: select experiments\n",
    "\n",
    "experiments = ['local_hubble', 'cosmic_chronometers']"
   ]
  },
  {
   "cell_type": "code",
   "execution_count": null,
   "metadata": {},
   "outputs": [
    {
     "data": {
      "text/plain": [
       "True"
      ]
     },
     "execution_count": 7,
     "metadata": {},
     "output_type": "execute_result"
    }
   ],
   "source": [
    "'local_hubble' in experiments"
   ]
  },
  {
   "cell_type": "code",
   "execution_count": null,
   "metadata": {},
   "outputs": [
    {
     "name": "stdout",
     "output_type": "stream",
     "text": [
      "Loading local_hubble data\n"
     ]
    },
    {
     "data": {
      "text/plain": [
       "{'y': 73.02, 'y_err': 1.79}"
      ]
     },
     "execution_count": 11,
     "metadata": {},
     "output_type": "execute_result"
    }
   ],
   "source": [
    "from itm.posterior_calculator import PosteriorCalculator\n",
    "\n",
    "posterior = PosteriorCalculator(experiments)\n",
    "posterior._hubble_constant"
   ]
  },
  {
   "cell_type": "markdown",
   "metadata": {},
   "source": [
    "Test distance modulus"
   ]
  },
  {
   "cell_type": "code",
   "execution_count": 3,
   "metadata": {},
   "outputs": [],
   "source": [
    "from itm.lcdm import LCDM\n",
    "from itm.observables import Observables\n",
    "import numpy as np\n",
    "\n",
    "cosmology = LCDM()\n",
    "observable_test = Observables(cosmology)"
   ]
  },
  {
   "cell_type": "code",
   "execution_count": 4,
   "metadata": {},
   "outputs": [
    {
     "data": {
      "text/plain": [
       "array([0.95400607, 0.80066276, 0.66147368, 0.54755781, 0.45789338,\n",
       "       0.38784582, 0.33277099, 0.28894944, 0.25360614, 0.22471391])"
      ]
     },
     "execution_count": 4,
     "metadata": {},
     "output_type": "execute_result"
    }
   ],
   "source": [
    "z = np.linspace(0.1, 3, 10)\n",
    "params = [24.96, 0.69, 0.022, 0.12]\n",
    "observable_test._inv_E(z, params)"
   ]
  },
  {
   "cell_type": "code",
   "execution_count": 5,
   "metadata": {},
   "outputs": [
    {
     "data": {
      "text/plain": [
       "array([ 424.57204769, 1652.58282049, 2673.39290805, 3516.68063739,\n",
       "       4217.91467595, 4807.92949992, 5310.85212001, 5744.92281335,\n",
       "       6123.85372042, 6458.02054696])"
      ]
     },
     "execution_count": 5,
     "metadata": {},
     "output_type": "execute_result"
    }
   ],
   "source": [
    "observable_test._comoving_distance(z, params)"
   ]
  },
  {
   "cell_type": "code",
   "execution_count": 5,
   "metadata": {},
   "outputs": [
    {
     "data": {
      "text/plain": [
       "array([38.30672042, 41.81565347, 43.30359967, 44.26701683, 44.9764687 ,\n",
       "       45.53552704, 45.99542173, 46.38524316, 46.72305146, 47.02079707])"
      ]
     },
     "execution_count": 5,
     "metadata": {},
     "output_type": "execute_result"
    }
   ],
   "source": [
    "observable_test.distance_modulus(z, params)"
   ]
  },
  {
   "cell_type": "markdown",
   "metadata": {},
   "source": [
    "Convert covariance matrix from list to np.array"
   ]
  },
  {
   "cell_type": "code",
   "execution_count": 6,
   "metadata": {},
   "outputs": [],
   "source": [
    "x, y = np.loadtxt(\"data/jla_mub.txt\", comments='#', unpack=True)\n",
    "flatten_cov = np.loadtxt(\"data/jla_mub_covmatrix.dat\")"
   ]
  },
  {
   "cell_type": "code",
   "execution_count": 7,
   "metadata": {},
   "outputs": [
    {
     "name": "stdout",
     "output_type": "stream",
     "text": [
      "(31, 31)\n",
      "(31, 31)\n",
      "1.4884660039785232e+78\n"
     ]
    }
   ],
   "source": [
    "cov = flatten_cov.reshape((x.shape[0], x.shape[0]))\n",
    "inv_cov = np.linalg.inv(cov)\n",
    "det_inv_cov = np.linalg.det(inv_cov)\n",
    "\n",
    "print(cov.shape)\n",
    "print(inv_cov.shape)\n",
    "print(det_inv_cov)"
   ]
  },
  {
   "cell_type": "code",
   "execution_count": 6,
   "metadata": {},
   "outputs": [
    {
     "ename": "NameError",
     "evalue": "name 'x' is not defined",
     "output_type": "error",
     "traceback": [
      "\u001b[0;31m---------------------------------------------------------------------------\u001b[0m",
      "\u001b[0;31mNameError\u001b[0m                                 Traceback (most recent call last)",
      "\u001b[0;32m/var/folders/3q/tr2hvbz55wg4vm6bck6h6g140000gn/T/ipykernel_23769/372620582.py\u001b[0m in \u001b[0;36m<module>\u001b[0;34m\u001b[0m\n\u001b[1;32m      2\u001b[0m \u001b[0;31m# for i in range(len(x)):\u001b[0m\u001b[0;34m\u001b[0m\u001b[0;34m\u001b[0m\u001b[0m\n\u001b[1;32m      3\u001b[0m \u001b[0;31m#     model.append(distance_modulus(x[i], params))\u001b[0m\u001b[0;34m\u001b[0m\u001b[0;34m\u001b[0m\u001b[0m\n\u001b[0;32m----> 4\u001b[0;31m \u001b[0mmodel\u001b[0m \u001b[0;34m=\u001b[0m \u001b[0mobservable_test\u001b[0m\u001b[0;34m.\u001b[0m\u001b[0mdistance_modulus\u001b[0m\u001b[0;34m(\u001b[0m\u001b[0mx\u001b[0m\u001b[0;34m,\u001b[0m \u001b[0mparams\u001b[0m\u001b[0;34m)\u001b[0m\u001b[0;34m\u001b[0m\u001b[0;34m\u001b[0m\u001b[0m\n\u001b[0m\u001b[1;32m      5\u001b[0m \u001b[0mr\u001b[0m \u001b[0;34m=\u001b[0m \u001b[0my\u001b[0m \u001b[0;34m-\u001b[0m \u001b[0mmodel\u001b[0m\u001b[0;34m\u001b[0m\u001b[0;34m\u001b[0m\u001b[0m\n\u001b[1;32m      6\u001b[0m \u001b[0;34m\u001b[0m\u001b[0m\n",
      "\u001b[0;31mNameError\u001b[0m: name 'x' is not defined"
     ]
    }
   ],
   "source": [
    "# model = []\n",
    "# for i in range(len(x)):\n",
    "#     model.append(distance_modulus(x[i], params))\n",
    "model = observable_test.distance_modulus(x, params)\n",
    "r = y - model\n",
    "\n",
    "chi2 = np.dot(r, np.dot(inv_cov, r))\n",
    "\n",
    "lnlikehood = -0.5 * (chi2 - np.log(det_inv_cov))\n",
    "\n",
    "print(r)\n",
    "print(chi2)\n",
    "print(lnlikehood)"
   ]
  },
  {
   "cell_type": "code",
   "execution_count": 25,
   "metadata": {},
   "outputs": [
    {
     "name": "stdout",
     "output_type": "stream",
     "text": [
      "1.4884660039785232e+78\n"
     ]
    }
   ],
   "source": [
    "# convert flat values to matrix form\n",
    "# import the flattened covariance values\n",
    "aux = np.loadtxt(\"data/jla_mub_covmatrix.dat\")\n",
    "# dimension of the matrix\n",
    "ndim = int(np.sqrt(len(aux)))\n",
    "# initilize the matrix\n",
    "cov_mat = np.zeros((ndim, ndim))\n",
    "i = 0\n",
    "for j in range(ndim):\n",
    "    for k in range(ndim):\n",
    "        cov_mat[j][k] = aux[i]\n",
    "        i = i+1\n",
    "inv_cov_mat = np.linalg.inv(cov_mat)\n",
    "inv_det_C = np.linalg.det(inv_cov_mat)\n",
    "print(inv_det_C)"
   ]
  },
  {
   "cell_type": "code",
   "execution_count": 18,
   "metadata": {},
   "outputs": [
    {
     "data": {
      "text/plain": [
       "961"
      ]
     },
     "execution_count": 18,
     "metadata": {},
     "output_type": "execute_result"
    }
   ],
   "source": [
    "np.count_nonzero(cov == cov_mat)"
   ]
  },
  {
   "cell_type": "code",
   "execution_count": 7,
   "metadata": {},
   "outputs": [
    {
     "name": "stdout",
     "output_type": "stream",
     "text": [
      "\n",
      "Test BAO:\n",
      "Data    Model   Diff\n",
      "2.980    2.962    0.006\n",
      "4.350    4.132    0.053\n",
      "8.250    8.309    0.007\n",
      "13.420    13.494    0.005\n"
     ]
    }
   ],
   "source": [
    "x, y, _ = np.loadtxt(\"data/bao.txt\", comments='#', unpack=True )\n",
    "\n",
    "model = observable_test.d_BAO(x, params)\n",
    "# for i in range(len(x)):\n",
    "#     model.append(d_BAO(x[i], params))\n",
    "\n",
    "print(\"\\nTest BAO:\")\n",
    "print(\"Data    Model   Diff\")\n",
    "for i in range(len(y)):\n",
    "    msg = \"{0:.3f}    {1:.3f}    {2:.3f}\".format(y[i], model[i], abs((y[i]-model[i])/model[i]))\n",
    "    print(msg)"
   ]
  },
  {
   "cell_type": "code",
   "execution_count": null,
   "metadata": {},
   "outputs": [],
   "source": []
  }
 ],
 "metadata": {
  "interpreter": {
   "hash": "72919ce682e65869d7d6d01ff01d7d63d3516ac704f33b93bdf02788764516ea"
  },
  "kernelspec": {
   "display_name": "Python 3.9.7 ('cosmo')",
   "language": "python",
   "name": "python3"
  },
  "language_info": {
   "codemirror_mode": {
    "name": "ipython",
    "version": 3
   },
   "file_extension": ".py",
   "mimetype": "text/x-python",
   "name": "python",
   "nbconvert_exporter": "python",
   "pygments_lexer": "ipython3",
   "version": "3.9.7"
  },
  "orig_nbformat": 4
 },
 "nbformat": 4,
 "nbformat_minor": 2
}
