{
 "cells": [
  {
   "cell_type": "code",
   "execution_count": null,
   "metadata": {},
   "outputs": [],
   "source": [
    "import pandas as pd\n",
    "import numpy as np"
   ]
  },
  {
   "cell_type": "code",
   "execution_count": null,
   "metadata": {},
   "outputs": [],
   "source": [
    "params = [24.96, 0.69, 0.022, 0.12] "
   ]
  },
  {
   "cell_type": "code",
   "execution_count": null,
   "metadata": {},
   "outputs": [],
   "source": [
    "from itm.lcdm import H"
   ]
  },
  {
   "cell_type": "code",
   "execution_count": null,
   "metadata": {},
   "outputs": [],
   "source": [
    "data.info"
   ]
  },
  {
   "cell_type": "code",
   "execution_count": null,
   "metadata": {},
   "outputs": [],
   "source": [
    "data = pd.read_csv(\"data/hubble.csv\")\n",
    "\n",
    "x = data[\"z\"].to_numpy()\n",
    "y = data[\"H\"].to_numpy()\n",
    "y_err = data[\"err\"].to_numpy()\n",
    "\n",
    "model = H(x, params)"
   ]
  },
  {
   "cell_type": "code",
   "execution_count": null,
   "metadata": {},
   "outputs": [],
   "source": [
    "def ln_likelihood(y_fit, y_target, y_err):\n",
    "    inv_sigma2 = 1.0 / y_err**2\n",
    "    return -0.5 * (np.sum((y_target - y_fit)**2 * inv_sigma2 - np.log(inv_sigma2)))\n",
    "    "
   ]
  },
  {
   "cell_type": "code",
   "execution_count": null,
   "metadata": {},
   "outputs": [],
   "source": [
    "ln_likelihood(model, y, y_err)"
   ]
  },
  {
   "cell_type": "code",
   "execution_count": null,
   "metadata": {},
   "outputs": [],
   "source": [
    "lnlikehood"
   ]
  },
  {
   "cell_type": "code",
   "execution_count": null,
   "metadata": {},
   "outputs": [],
   "source": [
    "        # initial guess\n",
    "model = H(df[\"z\"], params)\n",
    "model.to_numpy()\n",
    "# inv_sigma2 = 1.0/yerr**2\n",
    "\n",
    "# lnlikehood += -0.5 * \\\n",
    "# (np.sum((y-model)**2*inv_sigma2 - np.log(inv_sigma2)))"
   ]
  },
  {
   "cell_type": "code",
   "execution_count": null,
   "metadata": {},
   "outputs": [],
   "source": [
    "from itm.likelihood_v2 import Prob\n"
   ]
  },
  {
   "cell_type": "code",
   "execution_count": null,
   "metadata": {},
   "outputs": [],
   "source": [
    "probs = Prob()"
   ]
  },
  {
   "cell_type": "code",
   "execution_count": null,
   "metadata": {},
   "outputs": [],
   "source": [
    "params = [24.96, 0.69, 0.022, 0.12] \n",
    "probs.ln_likelihood(params)"
   ]
  },
  {
   "cell_type": "code",
   "execution_count": null,
   "metadata": {},
   "outputs": [],
   "source": [
    "# Test: select experiments\n",
    "\n",
    "experiments = ['local_hubble', 'cosmic_chronometers']"
   ]
  },
  {
   "cell_type": "code",
   "execution_count": null,
   "metadata": {},
   "outputs": [],
   "source": [
    "'local_hubble' in experiments"
   ]
  },
  {
   "cell_type": "code",
   "execution_count": null,
   "metadata": {},
   "outputs": [],
   "source": [
    "from itm.posterior_calculator import PosteriorCalculator\n",
    "\n",
    "posterior = PosteriorCalculator(experiments)\n",
    "posterior._hubble_constant"
   ]
  },
  {
   "cell_type": "markdown",
   "metadata": {},
   "source": [
    "Test distance modulus"
   ]
  },
  {
   "cell_type": "code",
   "execution_count": null,
   "metadata": {},
   "outputs": [],
   "source": [
    "from itm.lcdm import LCDM\n",
    "from itm.observables import Observables\n",
    "import numpy as np\n",
    "\n",
    "cosmology = LCDM()\n",
    "observable_test = Observables(cosmology)"
   ]
  },
  {
   "cell_type": "code",
   "execution_count": null,
   "metadata": {},
   "outputs": [],
   "source": [
    "z = np.linspace(0.1, 3, 10)\n",
    "params = [24.96, 0.69, 0.022, 0.12]\n",
    "observable_test._inv_E(z, params)"
   ]
  },
  {
   "cell_type": "code",
   "execution_count": null,
   "metadata": {},
   "outputs": [],
   "source": [
    "observable_test._comoving_distance(z, params)"
   ]
  },
  {
   "cell_type": "code",
   "execution_count": null,
   "metadata": {},
   "outputs": [],
   "source": [
    "observable_test.distance_modulus(z, params)"
   ]
  },
  {
   "cell_type": "markdown",
   "metadata": {},
   "source": [
    "Convert covariance matrix from list to np.array"
   ]
  },
  {
   "cell_type": "code",
   "execution_count": null,
   "metadata": {},
   "outputs": [],
   "source": [
    "x, y = np.loadtxt(\"data/jla_mub.txt\", comments='#', unpack=True)\n",
    "flatten_cov = np.loadtxt(\"data/jla_mub_covmatrix.dat\")"
   ]
  },
  {
   "cell_type": "code",
   "execution_count": null,
   "metadata": {},
   "outputs": [],
   "source": [
    "cov = flatten_cov.reshape((x.shape[0], x.shape[0]))\n",
    "inv_cov = np.linalg.inv(cov)\n",
    "det_inv_cov = np.linalg.det(inv_cov)\n",
    "\n",
    "print(cov.shape)\n",
    "print(inv_cov.shape)\n",
    "print(det_inv_cov)"
   ]
  },
  {
   "cell_type": "code",
   "execution_count": null,
   "metadata": {},
   "outputs": [],
   "source": [
    "# model = []\n",
    "# for i in range(len(x)):\n",
    "#     model.append(distance_modulus(x[i], params))\n",
    "model = observable_test.distance_modulus(x, params)\n",
    "r = y - model\n",
    "\n",
    "chi2 = np.dot(r, np.dot(inv_cov, r))\n",
    "\n",
    "lnlikehood = -0.5 * (chi2 - np.log(det_inv_cov))\n",
    "\n",
    "print(r)\n",
    "print(chi2)\n",
    "print(lnlikehood)"
   ]
  },
  {
   "cell_type": "code",
   "execution_count": null,
   "metadata": {},
   "outputs": [],
   "source": [
    "# convert flat values to matrix form\n",
    "# import the flattened covariance values\n",
    "aux = np.loadtxt(\"data/jla_mub_covmatrix.dat\")\n",
    "# dimension of the matrix\n",
    "ndim = int(np.sqrt(len(aux)))\n",
    "# initilize the matrix\n",
    "cov_mat = np.zeros((ndim, ndim))\n",
    "i = 0\n",
    "for j in range(ndim):\n",
    "    for k in range(ndim):\n",
    "        cov_mat[j][k] = aux[i]\n",
    "        i = i+1\n",
    "inv_cov_mat = np.linalg.inv(cov_mat)\n",
    "inv_det_C = np.linalg.det(inv_cov_mat)\n",
    "print(inv_det_C)"
   ]
  },
  {
   "cell_type": "code",
   "execution_count": null,
   "metadata": {},
   "outputs": [],
   "source": [
    "np.count_nonzero(cov == cov_mat)"
   ]
  },
  {
   "cell_type": "code",
   "execution_count": null,
   "metadata": {},
   "outputs": [],
   "source": [
    "x, y, _ = np.loadtxt(\"data/bao.txt\", comments='#', unpack=True )\n",
    "\n",
    "model = observable_test.d_BAO(x, params)\n",
    "# for i in range(len(x)):\n",
    "#     model.append(d_BAO(x[i], params))\n",
    "\n",
    "print(\"\\nTest BAO:\")\n",
    "print(\"Data    Model   Diff\")\n",
    "for i in range(len(y)):\n",
    "    msg = \"{0:.3f}    {1:.3f}    {2:.3f}\".format(y[i], model[i], abs((y[i]-model[i])/model[i]))\n",
    "    print(msg)"
   ]
  },
  {
   "cell_type": "code",
   "execution_count": null,
   "metadata": {},
   "outputs": [],
   "source": [
    "import itm.cosmo_functions\n",
    "params = [24.96, 0.69, 0.022, 0.12]\n",
    "d1 = itm.cosmo_functions.d_BAO(10, params)\n",
    "d2 = itm.cosmo_functions.wigglez(10, params)\n",
    "\n",
    "print(d2/d1)"
   ]
  },
  {
   "cell_type": "code",
   "execution_count": null,
   "metadata": {},
   "outputs": [],
   "source": [
    "from itm.lcdm import LCDM\n",
    "from itm.observables import Observables\n",
    "import numpy as np\n",
    "\n",
    "cosmology = LCDM()\n",
    "observable_test = Observables(cosmology)\n",
    "\n",
    "\n",
    "x, y, y_err = np.loadtxt(\"data/wigglez.dat\", comments='#', unpack=True )\n",
    "flatten_inv_cov_mat = np.loadtxt(\"data/wigglez_invcovmat.dat\")\n",
    "inv_cov = flatten_inv_cov_mat.reshape((y.shape[0], y.shape[0]))\n",
    "det_inv_cov = np.linalg.det(inv_cov)\n",
    "\n",
    "# y_err vs cov matrix\n",
    "cov = np.linalg.inv(inv_cov)\n",
    "for i in range(x.shape[0]):\n",
    "    print(np.sqrt(cov[i, i]))\n",
    "    print(y_err[i])\n",
    "\n",
    "# x = np.linspace(0.1, 3, 10)\n",
    "params = [24.96, 0.69, 0.022, 0.12] \n",
    "model = observable_test.d_bao_wigglez(x, params)\n",
    "\n",
    "print(\"\\nTest BAO (WiggleZ):\")\n",
    "print(\"Data    Model   Diff\")\n",
    "for i in range(len(y)):\n",
    "    msg = \"{0:.3f}    {1:.3f}    {2:.3f}\".format(y[i], model[i], abs((y[i]-model[i])/model[i]))\n",
    "    print(msg)"
   ]
  },
  {
   "cell_type": "code",
   "execution_count": null,
   "metadata": {},
   "outputs": [],
   "source": [
    "from itm.data_loader import DataLoader"
   ]
  },
  {
   "cell_type": "code",
   "execution_count": null,
   "metadata": {},
   "outputs": [],
   "source": [
    "experiments = [\n",
    "    'local_hubble',\n",
    "    'cosmic_chronometers',\n",
    "    'jla',\n",
    "    'bao_compilation',\n",
    "    'bao_wigglez'\n",
    "]\n",
    "data = DataLoader(experiments)"
   ]
  },
  {
   "cell_type": "code",
   "execution_count": null,
   "metadata": {},
   "outputs": [],
   "source": [
    "data."
   ]
  }
 ],
 "metadata": {
  "interpreter": {
   "hash": "72919ce682e65869d7d6d01ff01d7d63d3516ac704f33b93bdf02788764516ea"
  },
  "kernelspec": {
   "display_name": "Python 3.9.7 ('cosmo')",
   "language": "python",
   "name": "python3"
  },
  "language_info": {
   "codemirror_mode": {
    "name": "ipython",
    "version": 3
   },
   "file_extension": ".py",
   "mimetype": "text/x-python",
   "name": "python",
   "nbconvert_exporter": "python",
   "pygments_lexer": "ipython3",
   "version": "3.9.7"
  },
  "orig_nbformat": 4
 },
 "nbformat": 4,
 "nbformat_minor": 2
}
