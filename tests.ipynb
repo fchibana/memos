{
 "cells": [
  {
   "cell_type": "code",
   "execution_count": 21,
   "metadata": {},
   "outputs": [],
   "source": [
    "import pandas as pd\n",
    "import numpy as np"
   ]
  },
  {
   "cell_type": "code",
   "execution_count": 20,
   "metadata": {},
   "outputs": [],
   "source": [
    "params = [24.96, 0.69, 0.022, 0.12] "
   ]
  },
  {
   "cell_type": "code",
   "execution_count": 19,
   "metadata": {},
   "outputs": [],
   "source": [
    "from itm.lcdm import H"
   ]
  },
  {
   "cell_type": "code",
   "execution_count": 23,
   "metadata": {},
   "outputs": [
    {
     "data": {
      "text/plain": [
       "<bound method DataFrame.info of          z   H(z)    err\n",
       "0   0.0708   69.0  19.68\n",
       "1   0.0900   69.0  15.00\n",
       "2   0.1200   68.6  26.20\n",
       "3   0.1700   83.0   8.00\n",
       "4   0.1790   75.0   4.00\n",
       "5   0.1990   75.0   5.00\n",
       "6   0.2000   72.9  29.60\n",
       "7   0.2700   77.0  14.00\n",
       "8   0.2800   88.8  36.60\n",
       "9   0.3500   82.1   4.85\n",
       "10  0.3520   83.0  14.00\n",
       "11  0.4000   95.0  17.00\n",
       "12  0.4004   77.0  10.20\n",
       "13  0.4247   87.1  11.20\n",
       "14  0.4497   92.8  12.90\n",
       "15  0.4783   80.9   9.00\n",
       "16  0.4800   97.0  62.00\n",
       "17  0.5929  104.0  13.00\n",
       "18  0.6797   92.0   8.00\n",
       "19  0.7812  105.0  12.00\n",
       "20  0.8754  125.0  17.00\n",
       "21  0.8800   90.0  40.00\n",
       "22  0.9000  117.0  23.00\n",
       "23  1.0370  154.0  20.00\n",
       "24  1.3000  168.0  17.00\n",
       "25  1.3630  160.0  33.60\n",
       "26  1.4300  177.0  18.00\n",
       "27  1.5300  140.0  14.00\n",
       "28  1.7500  202.0  40.00\n",
       "29  1.9650  186.5  50.40>"
      ]
     },
     "execution_count": 23,
     "metadata": {},
     "output_type": "execute_result"
    }
   ],
   "source": [
    "data.info"
   ]
  },
  {
   "cell_type": "code",
   "execution_count": 24,
   "metadata": {},
   "outputs": [],
   "source": [
    "data = pd.read_csv(\"data/hubble.csv\")\n",
    "\n",
    "x = data[\"z\"].to_numpy()\n",
    "y = data[\"H\"].to_numpy()\n",
    "y_err = data[\"err\"].to_numpy()\n",
    "\n",
    "model = H(x, params)"
   ]
  },
  {
   "cell_type": "code",
   "execution_count": 26,
   "metadata": {},
   "outputs": [],
   "source": [
    "def ln_likelihood(y_fit, y_target, y_err):\n",
    "    inv_sigma2 = 1.0 / y_err**2\n",
    "    return -0.5 * (np.sum((y_target - y_fit)**2 * inv_sigma2 - np.log(inv_sigma2)))\n",
    "    "
   ]
  },
  {
   "cell_type": "code",
   "execution_count": 27,
   "metadata": {},
   "outputs": [
    {
     "data": {
      "text/plain": [
       "-90.90551637968684"
      ]
     },
     "execution_count": 27,
     "metadata": {},
     "output_type": "execute_result"
    }
   ],
   "source": [
    "ln_likelihood(model, y, y_err)"
   ]
  },
  {
   "cell_type": "code",
   "execution_count": 28,
   "metadata": {},
   "outputs": [
    {
     "data": {
      "text/plain": [
       "-90.90551637968684"
      ]
     },
     "execution_count": 28,
     "metadata": {},
     "output_type": "execute_result"
    }
   ],
   "source": [
    "lnlikehood"
   ]
  },
  {
   "cell_type": "code",
   "execution_count": 18,
   "metadata": {},
   "outputs": [
    {
     "data": {
      "text/plain": [
       "array([ 71.30598591,  71.97251533,  73.04888493,  74.93668374,\n",
       "        75.28883965,  76.08478496,  76.12506485,  79.05757329,\n",
       "        79.49448017,  82.67591308,  82.76993535,  85.07751008,\n",
       "        85.09714803,  86.30264571,  87.56829358,  89.04736793,\n",
       "        89.13632167,  95.29731446, 100.36051172, 106.62034323,\n",
       "       112.73932448, 113.04546069, 114.38424504, 123.8839227 ,\n",
       "       143.6134155 , 148.60880392, 154.0286447 , 162.31684513,\n",
       "       181.34623933, 200.93172944])"
      ]
     },
     "execution_count": 18,
     "metadata": {},
     "output_type": "execute_result"
    }
   ],
   "source": [
    "        # initial guess\n",
    "model = H(df[\"z\"], params)\n",
    "model.to_numpy()\n",
    "# inv_sigma2 = 1.0/yerr**2\n",
    "\n",
    "# lnlikehood += -0.5 * \\\n",
    "# (np.sum((y-model)**2*inv_sigma2 - np.log(inv_sigma2)))"
   ]
  },
  {
   "cell_type": "code",
   "execution_count": 1,
   "metadata": {},
   "outputs": [],
   "source": [
    "from itm.likelihood_v2 import Prob\n"
   ]
  },
  {
   "cell_type": "code",
   "execution_count": 2,
   "metadata": {},
   "outputs": [],
   "source": [
    "probs = Prob()"
   ]
  },
  {
   "cell_type": "code",
   "execution_count": 3,
   "metadata": {},
   "outputs": [
    {
     "data": {
      "text/plain": [
       "0"
      ]
     },
     "execution_count": 3,
     "metadata": {},
     "output_type": "execute_result"
    }
   ],
   "source": [
    "params = [24.96, 0.69, 0.022, 0.12] \n",
    "probs.ln_likelihood(params)"
   ]
  },
  {
   "cell_type": "code",
   "execution_count": null,
   "metadata": {},
   "outputs": [],
   "source": []
  }
 ],
 "metadata": {
  "interpreter": {
   "hash": "72919ce682e65869d7d6d01ff01d7d63d3516ac704f33b93bdf02788764516ea"
  },
  "kernelspec": {
   "display_name": "Python 3.9.7 ('cosmo')",
   "language": "python",
   "name": "python3"
  },
  "language_info": {
   "codemirror_mode": {
    "name": "ipython",
    "version": 3
   },
   "file_extension": ".py",
   "mimetype": "text/x-python",
   "name": "python",
   "nbconvert_exporter": "python",
   "pygments_lexer": "ipython3",
   "version": "3.9.7"
  },
  "orig_nbformat": 4
 },
 "nbformat": 4,
 "nbformat_minor": 2
}
