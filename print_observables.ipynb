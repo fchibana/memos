{
 "cells": [
  {
   "cell_type": "markdown",
   "metadata": {},
   "source": [
    "# (tmp) Print Observable\n",
    "\n",
    "Notebook to test and visualize observable and dataset"
   ]
  },
  {
   "cell_type": "code",
   "execution_count": null,
   "metadata": {},
   "outputs": [],
   "source": [
    "from itm.cosmology import LCDM\n",
    "from itm.observables import Visualizer"
   ]
  },
  {
   "cell_type": "code",
   "execution_count": null,
   "metadata": {},
   "outputs": [],
   "source": [
    "params = [24.96, 0.69, 0.022, 0.12]\n",
    "cosmo = LCDM()\n",
    "experiments = [\n",
    "    'local_hubble',\n",
    "    'cosmic_chronometers',\n",
    "    'jla',\n",
    "    'bao_compilation',\n",
    "    'bao_wigglez',\n",
    "]\n",
    "\n",
    "plotter = Visualizer(cosmology=cosmo, experiments=experiments)"
   ]
  },
  {
   "cell_type": "code",
   "execution_count": null,
   "metadata": {},
   "outputs": [],
   "source": [
    "plotter.show_local_hubble(params)"
   ]
  },
  {
   "cell_type": "code",
   "execution_count": null,
   "metadata": {},
   "outputs": [],
   "source": [
    "plotter.show_cosmic_chronometers(params)"
   ]
  },
  {
   "cell_type": "code",
   "execution_count": null,
   "metadata": {},
   "outputs": [],
   "source": [
    "plotter.show_jla(params)"
   ]
  },
  {
   "cell_type": "code",
   "execution_count": null,
   "metadata": {},
   "outputs": [],
   "source": [
    "plotter.show_bao_compilation(params)"
   ]
  },
  {
   "cell_type": "code",
   "execution_count": null,
   "metadata": {},
   "outputs": [],
   "source": [
    "plotter.show_bao_wigglez(params)"
   ]
  }
 ],
 "metadata": {
  "interpreter": {
   "hash": "15f4b529dca6ef86c80c3f1869aa9eb36193260dd4c88492eb85f57d90ac0ab5"
  },
  "kernelspec": {
   "display_name": "Python 3.7.6 ('venv': venv)",
   "language": "python",
   "name": "python3"
  },
  "language_info": {
   "codemirror_mode": {
    "name": "ipython",
    "version": 3
   },
   "file_extension": ".py",
   "mimetype": "text/x-python",
   "name": "python",
   "nbconvert_exporter": "python",
   "pygments_lexer": "ipython3",
   "version": "3.7.6"
  },
  "orig_nbformat": 4
 },
 "nbformat": 4,
 "nbformat_minor": 2
}
